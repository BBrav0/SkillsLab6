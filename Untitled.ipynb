{
 "cells": [
  {
   "cell_type": "code",
   "execution_count": 2,
   "metadata": {},
   "outputs": [
    {
     "name": "stdin",
     "output_type": "stream",
     "text": [
      "What's you name? Ben\n"
     ]
    },
    {
     "name": "stdout",
     "output_type": "stream",
     "text": [
      "hello Ben welcome to the calculator!\n"
     ]
    },
    {
     "name": "stdin",
     "output_type": "stream",
     "text": [
      "Input your first number! 70\n",
      "Input your second number! 23\n",
      "input your operation now! (-, +, *, /) /\n"
     ]
    },
    {
     "name": "stdout",
     "output_type": "stream",
     "text": [
      "70.0 / 23.0 = 3.0434782608695654\n"
     ]
    }
   ],
   "source": [
    "name = str(input(\"What's you name?\"))\n",
    "print(\"hello\",name,\"welcome to the calculator!\")\n",
    "num1 = float(input(\"Input your first number!\"))\n",
    "num2 = float(input(\"Input your second number!\"))\n",
    "oper = str(input(\"input your operation now! (-, +, *, /)\"))\n",
    "if oper == \"*\":\n",
    "    print(num1,\"*\",num2,\"=\",num1*num2)\n",
    "elif oper == \"/\":\n",
    "    print(num1,\"/\",num2,\"=\",num1/num2)\n",
    "elif oper == \"+\":\n",
    "    print(num1,\"+\",num2,\"=\",num1+num2)\n",
    "elif oper == \"-\":\n",
    "    print(num1,\"-\",num2,\"=\",num1-num2)"
   ]
  },
  {
   "cell_type": "code",
   "execution_count": null,
   "metadata": {},
   "outputs": [],
   "source": []
  }
 ],
 "metadata": {
  "kernelspec": {
   "display_name": "Python 3",
   "language": "python",
   "name": "python3"
  },
  "language_info": {
   "codemirror_mode": {
    "name": "ipython",
    "version": 3
   },
   "file_extension": ".py",
   "mimetype": "text/x-python",
   "name": "python",
   "nbconvert_exporter": "python",
   "pygments_lexer": "ipython3",
   "version": "3.8.3"
  }
 },
 "nbformat": 4,
 "nbformat_minor": 4
}
